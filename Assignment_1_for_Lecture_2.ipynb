{
  "nbformat": 4,
  "nbformat_minor": 0,
  "metadata": {
    "colab": {
      "provenance": [],
      "include_colab_link": true
    },
    "kernelspec": {
      "name": "python3",
      "display_name": "Python 3"
    },
    "language_info": {
      "name": "python"
    }
  },
  "cells": [
    {
      "cell_type": "markdown",
      "metadata": {
        "id": "view-in-github",
        "colab_type": "text"
      },
      "source": [
        "<a href=\"https://colab.research.google.com/github/dinesh1190/Data_Science_Assignments/blob/main/Assignment_1_for_Lecture_2.ipynb\" target=\"_parent\"><img src=\"https://colab.research.google.com/assets/colab-badge.svg\" alt=\"Open In Colab\"/></a>"
      ]
    },
    {
      "cell_type": "markdown",
      "source": [
        "#Solution for question 1"
      ],
      "metadata": {
        "id": "PsuMhyWQnZkb"
      }
    },
    {
      "cell_type": "code",
      "execution_count": null,
      "metadata": {
        "colab": {
          "base_uri": "https://localhost:8080/"
        },
        "id": "ShkvNYDUk34r",
        "outputId": "c7c503f5-4e41-4b3a-ec58-02895ab06dd5"
      },
      "outputs": [
        {
          "output_type": "stream",
          "name": "stdout",
          "text": [
            "Enter a string: supriya\n",
            "Reversed string: ayirpus\n"
          ]
        }
      ],
      "source": [
        "def reverse_string(input_string):\n",
        "    reversed_string = \"\"\n",
        "    for i in range(len(input_string) - 1, -1, -1):\n",
        "        reversed_string += input_string[i]\n",
        "    return reversed_string\n",
        "\n",
        "# Example usage\n",
        "string_to_reverse = input(\"Enter a string: \")\n",
        "reversed_string = reverse_string(string_to_reverse)\n",
        "print(\"Reversed string:\", reversed_string)"
      ]
    },
    {
      "cell_type": "markdown",
      "source": [
        "#Solution for question 2"
      ],
      "metadata": {
        "id": "7OPQeRwIndHw"
      }
    },
    {
      "cell_type": "code",
      "source": [
        "def is_palindrome(input_string):\n",
        "    # Convert the string to lowercase and remove non-alphanumeric characters\n",
        "    input_string = ''.join(e.lower() for e in input_string if e.isalnum())\n",
        "\n",
        "    # Check if the string is equal to its reverse\n",
        "    return input_string == input_string[::-1]\n",
        "\n",
        "# Example usage\n",
        "string_to_check = input(\"Enter a string: \")\n",
        "if is_palindrome(string_to_check):\n",
        "    print(\"The string is a palindrome.\")\n",
        "else:\n",
        "    print(\"The string is not a palindrome.\")"
      ],
      "metadata": {
        "colab": {
          "base_uri": "https://localhost:8080/"
        },
        "id": "NB9qaFcglIw2",
        "outputId": "44e50ce1-5699-4057-ba59-cc2f7f97c530"
      },
      "execution_count": null,
      "outputs": [
        {
          "output_type": "stream",
          "name": "stdout",
          "text": [
            "Enter a string: supriya\n",
            "The string is not a palindrome.\n"
          ]
        }
      ]
    },
    {
      "cell_type": "markdown",
      "source": [
        "#Solution for question 3"
      ],
      "metadata": {
        "id": "oFFqpID3nehN"
      }
    },
    {
      "cell_type": "code",
      "source": [
        "def find_largest_element(input_list):\n",
        "    if len(input_list) == 0:\n",
        "        return None\n",
        "\n",
        "    largest_element = input_list[0]\n",
        "    for element in input_list:\n",
        "        if element > largest_element:\n",
        "            largest_element = element\n",
        "\n",
        "    return largest_element\n",
        "\n",
        "# Example usage\n",
        "numbers = [5, 2, 9, 1, 7, 3]\n",
        "largest = find_largest_element(numbers)\n",
        "print(\"The largest element in the list is:\", largest)"
      ],
      "metadata": {
        "colab": {
          "base_uri": "https://localhost:8080/"
        },
        "id": "-9qeKi0BlXHa",
        "outputId": "dc0590b0-dbfa-41d2-d44d-85551880a2f0"
      },
      "execution_count": null,
      "outputs": [
        {
          "output_type": "stream",
          "name": "stdout",
          "text": [
            "The largest element in the list is: 9\n"
          ]
        }
      ]
    },
    {
      "cell_type": "markdown",
      "source": [
        "#Solution for question 4"
      ],
      "metadata": {
        "id": "mctbIQTZnhmt"
      }
    },
    {
      "cell_type": "code",
      "source": [
        "def count_elements(input_list):\n",
        "    element_count = {}\n",
        "    for element in input_list:\n",
        "        if element in element_count:\n",
        "            element_count[element] += 1\n",
        "        else:\n",
        "            element_count[element] = 1\n",
        "    return element_count\n",
        "\n",
        "# Example usage\n",
        "numbers = [1, 2, 3, 2, 1, 3, 4, 1]\n",
        "occurrences = count_elements(numbers)\n",
        "print(\"Element occurrences:\", occurrences)"
      ],
      "metadata": {
        "colab": {
          "base_uri": "https://localhost:8080/"
        },
        "id": "BylHEHs7llAa",
        "outputId": "1c7ad0a0-3a27-4aaa-e23d-d2e9575c5fb7"
      },
      "execution_count": null,
      "outputs": [
        {
          "output_type": "stream",
          "name": "stdout",
          "text": [
            "Element occurrences: {1: 3, 2: 2, 3: 2, 4: 1}\n"
          ]
        }
      ]
    },
    {
      "cell_type": "markdown",
      "source": [
        "#Solution for question 5"
      ],
      "metadata": {
        "id": "3LAP3fTonjrf"
      }
    },
    {
      "cell_type": "code",
      "source": [
        "def find_second_largest(input_list):\n",
        "    if len(input_list) < 2:\n",
        "        return None\n",
        "\n",
        "    largest = max(input_list[0], input_list[1])\n",
        "    second_largest = min(input_list[0], input_list[1])\n",
        "\n",
        "    for i in range(2, len(input_list)):\n",
        "        if input_list[i] > largest:\n",
        "            second_largest = largest\n",
        "            largest = input_list[i]\n",
        "        elif input_list[i] > second_largest and input_list[i] != largest:\n",
        "            second_largest = input_list[i]\n",
        "\n",
        "    return second_largest\n",
        "# Example usage\n",
        "numbers = [5, 2, 9, 1, 7, 3]\n",
        "second_largest = find_second_largest(numbers)\n",
        "\n",
        "if second_largest is None:\n",
        "    print(\"There is no second largest number.\")\n",
        "else:\n",
        "    print(\"The second largest number in the list is:\", second_largest)\n"
      ],
      "metadata": {
        "colab": {
          "base_uri": "https://localhost:8080/"
        },
        "id": "bUmMp16wlrsV",
        "outputId": "23f0f0da-0afd-40a8-edfe-da96c4a134fa"
      },
      "execution_count": null,
      "outputs": [
        {
          "output_type": "stream",
          "name": "stdout",
          "text": [
            "The second largest number in the list is: 7\n"
          ]
        }
      ]
    },
    {
      "cell_type": "markdown",
      "source": [
        "#Solution for question 6"
      ],
      "metadata": {
        "id": "NHk0RQ_VnlZs"
      }
    },
    {
      "cell_type": "code",
      "source": [
        "def remove_duplicates(input_list):\n",
        "    return list(set(input_list))\n",
        "\n",
        "# Example usage\n",
        "numbers = [1, 2, 3, 2, 1, 3, 4, 1]\n",
        "unique_numbers = remove_duplicates(numbers)\n",
        "print(\"List with duplicates removed:\", unique_numbers)"
      ],
      "metadata": {
        "colab": {
          "base_uri": "https://localhost:8080/"
        },
        "id": "IHcpznTvl7Eu",
        "outputId": "a77cad91-c5f0-4e9a-f390-78e53838a76d"
      },
      "execution_count": null,
      "outputs": [
        {
          "output_type": "stream",
          "name": "stdout",
          "text": [
            "List with duplicates removed: [1, 2, 3, 4]\n"
          ]
        }
      ]
    },
    {
      "cell_type": "markdown",
      "source": [
        "#Solution for question 7"
      ],
      "metadata": {
        "id": "shzBU9w3noRR"
      }
    },
    {
      "cell_type": "code",
      "source": [
        "def factorial(n):\n",
        "    if n < 0:\n",
        "        return None\n",
        "    elif n == 0 or n == 1:\n",
        "        return 1\n",
        "    else:\n",
        "        result = 1\n",
        "        for i in range(2, n + 1):\n",
        "            result *= i\n",
        "        return result\n",
        "\n",
        "# Example usage\n",
        "number = int(input(\"Enter a number: \"))\n",
        "factorial_result = factorial(number)\n",
        "\n",
        "if factorial_result is None:\n",
        "    print(\"Factorial is undefined for negative numbers.\")\n",
        "else:\n",
        "    print(\"The factorial of\", number, \"is:\", factorial_result)"
      ],
      "metadata": {
        "colab": {
          "base_uri": "https://localhost:8080/"
        },
        "id": "6O3-LmRNmFTN",
        "outputId": "c2007f69-275f-429e-a6b6-0228195c9d15"
      },
      "execution_count": null,
      "outputs": [
        {
          "output_type": "stream",
          "name": "stdout",
          "text": [
            "Enter a number: 9\n",
            "The factorial of 9 is: 362880\n"
          ]
        }
      ]
    },
    {
      "cell_type": "markdown",
      "source": [
        "#Solution for question 8"
      ],
      "metadata": {
        "id": "FmwaGVZJnprb"
      }
    },
    {
      "cell_type": "code",
      "source": [
        "def is_prime(n):\n",
        "    if n <= 1:\n",
        "        return False\n",
        "    elif n <= 3:\n",
        "        return True\n",
        "    elif n % 2 == 0 or n % 3 == 0:\n",
        "        return False\n",
        "    else:\n",
        "        i = 5\n",
        "        while i * i <= n:\n",
        "            if n % i == 0 or n % (i + 2) == 0:\n",
        "                return False\n",
        "            i += 6\n",
        "        return True\n",
        "\n",
        "# Example usage\n",
        "number = int(input(\"Enter a number: \"))\n",
        "if is_prime(number):\n",
        "    print(number, \"is a prime number.\")\n",
        "else:\n",
        "    print(number, \"is not a prime number.\")"
      ],
      "metadata": {
        "colab": {
          "base_uri": "https://localhost:8080/"
        },
        "id": "25vpHUwImM5a",
        "outputId": "76984745-0d1a-4b14-9900-592d77f2a141"
      },
      "execution_count": null,
      "outputs": [
        {
          "output_type": "stream",
          "name": "stdout",
          "text": [
            "Enter a number: 89\n",
            "89 is a prime number.\n"
          ]
        }
      ]
    },
    {
      "cell_type": "markdown",
      "source": [
        "#Solution for question 9"
      ],
      "metadata": {
        "id": "qj2jMJlYnq-b"
      }
    },
    {
      "cell_type": "code",
      "source": [
        "def sort_list(input_list):\n",
        "    return sorted(input_list)\n",
        "\n",
        "# Example usage\n",
        "numbers = [5, 2, 9, 1, 7, 3]\n",
        "sorted_numbers = sort_list(numbers)\n",
        "print(\"Sorted list:\", sorted_numbers)"
      ],
      "metadata": {
        "colab": {
          "base_uri": "https://localhost:8080/"
        },
        "id": "q7M9aNQLmfQS",
        "outputId": "b6a085c6-c688-45a3-b870-8d51b1def19a"
      },
      "execution_count": null,
      "outputs": [
        {
          "output_type": "stream",
          "name": "stdout",
          "text": [
            "Sorted list: [1, 2, 3, 5, 7, 9]\n"
          ]
        }
      ]
    },
    {
      "cell_type": "markdown",
      "source": [
        "#Solution for question 10"
      ],
      "metadata": {
        "id": "yjbs6IYjns2Z"
      }
    },
    {
      "cell_type": "code",
      "source": [
        "def calculate_sum(input_list):\n",
        "    total_sum = 0\n",
        "    for num in input_list:\n",
        "        total_sum += num\n",
        "    return total_sum\n",
        "\n",
        "# Example usage\n",
        "numbers = [1, 2, 3, 4, 5]\n",
        "sum_of_numbers = calculate_sum(numbers)\n",
        "print(\"Sum of the numbers:\", sum_of_numbers)"
      ],
      "metadata": {
        "colab": {
          "base_uri": "https://localhost:8080/"
        },
        "id": "7QN3FBjJmtsq",
        "outputId": "fa8dc0ae-ef03-42a9-e40b-573c9e3e7095"
      },
      "execution_count": null,
      "outputs": [
        {
          "output_type": "stream",
          "name": "stdout",
          "text": [
            "Sum of the numbers: 15\n"
          ]
        }
      ]
    },
    {
      "cell_type": "markdown",
      "source": [
        "#Solution for question 11"
      ],
      "metadata": {
        "id": "-ZRmr0W7nuaE"
      }
    },
    {
      "cell_type": "code",
      "source": [
        "def find_common_elements(list1, list2):\n",
        "    common_elements = set(list1) & set(list2)\n",
        "    return list(common_elements)\n",
        "\n",
        "# Example usage\n",
        "list1 = [1, 2, 3, 4, 5]\n",
        "list2 = [4, 5, 6, 7, 8]\n",
        "common_elements = find_common_elements(list1, list2)\n",
        "print(\"Common elements:\", common_elements)"
      ],
      "metadata": {
        "colab": {
          "base_uri": "https://localhost:8080/"
        },
        "id": "Z2P9khZkm3fZ",
        "outputId": "8bfed4f9-3046-4a78-b17f-d6a9429ca750"
      },
      "execution_count": null,
      "outputs": [
        {
          "output_type": "stream",
          "name": "stdout",
          "text": [
            "Common elements: [4, 5]\n"
          ]
        }
      ]
    },
    {
      "cell_type": "markdown",
      "source": [
        "#Solution for question 12\n",
        "\n",
        "\n"
      ],
      "metadata": {
        "id": "5HIgXMyZnwZN"
      }
    },
    {
      "cell_type": "code",
      "source": [
        "def is_anagram(string1, string2):\n",
        "    string1 = string1.lower().replace(\" \", \"\")\n",
        "    string2 = string2.lower().replace(\" \", \"\")\n",
        "    return sorted(string1) == sorted(string2)\n",
        "\n",
        "# Example usage\n",
        "string1 = input(\"Enter the first string: \")\n",
        "string2 = input(\"Enter the second string: \")\n",
        "\n",
        "if is_anagram(string1, string2):\n",
        "    print(\"The strings are anagrams.\")\n",
        "else:\n",
        "    print(\"The strings are not anagrams.\")"
      ],
      "metadata": {
        "colab": {
          "base_uri": "https://localhost:8080/"
        },
        "id": "SzMZTRrZnIGt",
        "outputId": "bc879f32-4ab8-418c-fefc-e3d3ccd9be88"
      },
      "execution_count": null,
      "outputs": [
        {
          "output_type": "stream",
          "name": "stdout",
          "text": [
            "Enter the first string: supriya\n",
            "Enter the second string: dinesh\n",
            "The strings are not anagrams.\n"
          ]
        }
      ]
    },
    {
      "cell_type": "markdown",
      "source": [
        "#Solution for question 13"
      ],
      "metadata": {
        "id": "OW5PUXEbqPrP"
      }
    },
    {
      "cell_type": "code",
      "source": [
        "from itertools import permutations\n",
        "\n",
        "def generate_permutations(string):\n",
        "    # Generate all permutations of the string\n",
        "    perms = permutations(string)\n",
        "\n",
        "    # Convert permutations to a list of strings\n",
        "    perm_strings = [''.join(perm) for perm in perms]\n",
        "\n",
        "    return perm_strings\n",
        "\n",
        "# Example usage\n",
        "string = input(\"Enter a string: \")\n",
        "permutations = generate_permutations(string)\n",
        "print(\"All permutations:\")\n",
        "for perm in permutations:\n",
        "    print(perm)"
      ],
      "metadata": {
        "id": "Vt2qdy0ozvgQ"
      },
      "execution_count": null,
      "outputs": []
    },
    {
      "cell_type": "markdown",
      "source": [
        "#Solution for question 14"
      ],
      "metadata": {
        "id": "bigbX5RXqRjG"
      }
    },
    {
      "cell_type": "code",
      "source": [
        "def fibonacci_sequence(n):\n",
        "    sequence = [0, 1]  # Initialize the sequence with the first two terms\n",
        "\n",
        "    if n <= 2:\n",
        "        return sequence[:n]\n",
        "\n",
        "    while len(sequence) < n:\n",
        "        next_term = sequence[-1] + sequence[-2]\n",
        "        sequence.append(next_term)\n",
        "\n",
        "    return sequence\n",
        "\n",
        "# Example usage\n",
        "terms = int(input(\"Enter the number of terms: \"))\n",
        "fibonacci_terms = fibonacci_sequence(terms)\n",
        "print(\"Fibonacci sequence:\", fibonacci_terms)"
      ],
      "metadata": {
        "colab": {
          "base_uri": "https://localhost:8080/"
        },
        "id": "nh9X3PWqoSWM",
        "outputId": "2065c109-7ea4-4b96-9c63-c3586cda0bb8"
      },
      "execution_count": null,
      "outputs": [
        {
          "output_type": "stream",
          "name": "stdout",
          "text": [
            "Enter the number of terms: 9\n",
            "Fibonacci sequence: [0, 1, 1, 2, 3, 5, 8, 13, 21]\n"
          ]
        }
      ]
    },
    {
      "cell_type": "markdown",
      "source": [
        "#Solution for question 15"
      ],
      "metadata": {
        "id": "ppxzK0VKqSxN"
      }
    },
    {
      "cell_type": "code",
      "source": [
        "def find_median(numbers):\n",
        "    sorted_numbers = sorted(numbers)\n",
        "    n = len(sorted_numbers)\n",
        "\n",
        "    if n % 2 == 0:\n",
        "        # If the number of elements is even, take the average of the two middle elements\n",
        "        middle_index_1 = n // 2\n",
        "        middle_index_2 = middle_index_1 - 1\n",
        "        median = (sorted_numbers[middle_index_1] + sorted_numbers[middle_index_2]) / 2\n",
        "    else:\n",
        "        # If the number of elements is odd, take the middle element\n",
        "        middle_index = n // 2\n",
        "        median = sorted_numbers[middle_index]\n",
        "\n",
        "    return median\n",
        "\n",
        "# Example usage\n",
        "numbers = [7, 3, 1, 5, 9, 2, 6]\n",
        "median = find_median(numbers)\n",
        "print(\"Median of the numbers:\", median)"
      ],
      "metadata": {
        "colab": {
          "base_uri": "https://localhost:8080/"
        },
        "id": "oPM2YXS7ooNI",
        "outputId": "d4406ad1-a2dc-4b9a-a58a-8185933704cd"
      },
      "execution_count": null,
      "outputs": [
        {
          "output_type": "stream",
          "name": "stdout",
          "text": [
            "Median of the numbers: 5\n"
          ]
        }
      ]
    },
    {
      "cell_type": "markdown",
      "source": [
        "#Solution for question 16"
      ],
      "metadata": {
        "id": "iuH-nFwvqT86"
      }
    },
    {
      "cell_type": "code",
      "source": [
        "def is_sorted(numbers):\n",
        "    for i in range(len(numbers) - 1):\n",
        "        if numbers[i] > numbers[i + 1]:\n",
        "            return False\n",
        "    return True\n",
        "\n",
        "# Example usage\n",
        "numbers = [1, 2, 3, 4, 5]\n",
        "if is_sorted(numbers):\n",
        "    print(\"The list is sorted in non-decreasing order.\")\n",
        "else:\n",
        "    print(\"The list is not sorted in non-decreasing order.\")"
      ],
      "metadata": {
        "colab": {
          "base_uri": "https://localhost:8080/"
        },
        "id": "e0nraMSho63k",
        "outputId": "4dbb4829-5690-46d5-94f6-88307edcdec8"
      },
      "execution_count": null,
      "outputs": [
        {
          "output_type": "stream",
          "name": "stdout",
          "text": [
            "The list is sorted in non-decreasing order.\n"
          ]
        }
      ]
    },
    {
      "cell_type": "markdown",
      "source": [
        "#Solution for question 17"
      ],
      "metadata": {
        "id": "WFaUagK7qVjH"
      }
    },
    {
      "cell_type": "code",
      "source": [
        "def find_intersection(list1, list2):\n",
        "    set1 = set(list1)\n",
        "    set2 = set(list2)\n",
        "    intersection = set1.intersection(set2)\n",
        "    return list(intersection)\n",
        "\n",
        "# Example usage\n",
        "list1 = [1, 2, 3, 4, 5]\n",
        "list2 = [4, 5, 6, 7, 8]\n",
        "intersection = find_intersection(list1, list2)\n",
        "print(\"Intersection:\", intersection)"
      ],
      "metadata": {
        "colab": {
          "base_uri": "https://localhost:8080/"
        },
        "id": "mDbqMUSvpFZD",
        "outputId": "61fe8fd0-7dc3-45ae-da42-5e53bb61aa99"
      },
      "execution_count": null,
      "outputs": [
        {
          "output_type": "stream",
          "name": "stdout",
          "text": [
            "Intersection: [4, 5]\n"
          ]
        }
      ]
    },
    {
      "cell_type": "markdown",
      "source": [
        "#Solution for question 18"
      ],
      "metadata": {
        "id": "eSO5fJ1bqW9B"
      }
    },
    {
      "cell_type": "code",
      "source": [
        "def find_maximum_subarray_sum(numbers):\n",
        "    max_sum = float('-inf')  # Initialize with negative infinity\n",
        "    current_sum = 0\n",
        "\n",
        "    for num in numbers:\n",
        "        current_sum += num\n",
        "\n",
        "        if current_sum > max_sum:\n",
        "            max_sum = current_sum\n",
        "\n",
        "        if current_sum < 0:\n",
        "            current_sum = 0\n",
        "\n",
        "    return max_sum\n",
        "\n",
        "# Example usage\n",
        "numbers = [-2, 1, -3, 4, -1, 2, 1, -5, 4]\n",
        "maximum_sum = find_maximum_subarray_sum(numbers)\n",
        "print(\"Maximum subarray sum:\", maximum_sum)"
      ],
      "metadata": {
        "colab": {
          "base_uri": "https://localhost:8080/"
        },
        "id": "gJuzwW5hpMwL",
        "outputId": "bb8333a9-a337-450c-f509-2bbd987c39e7"
      },
      "execution_count": null,
      "outputs": [
        {
          "output_type": "stream",
          "name": "stdout",
          "text": [
            "Maximum subarray sum: 6\n"
          ]
        }
      ]
    },
    {
      "cell_type": "markdown",
      "source": [
        "#Solution for question 19"
      ],
      "metadata": {
        "id": "chZ3775eqYMR"
      }
    },
    {
      "cell_type": "code",
      "source": [
        "def remove_vowels(string):\n",
        "    vowels = \"aeiouAEIOU\"\n",
        "    string_without_vowels = \"\"\n",
        "\n",
        "    for char in string:\n",
        "        if char not in vowels:\n",
        "            string_without_vowels += char\n",
        "\n",
        "    return string_without_vowels\n",
        "\n",
        "# Example usage\n",
        "input_string = input(\"Enter a string: \")\n",
        "string_without_vowels = remove_vowels(input_string)\n",
        "print(\"String without vowels:\", string_without_vowels)"
      ],
      "metadata": {
        "colab": {
          "base_uri": "https://localhost:8080/"
        },
        "id": "twbuxN5SpY8u",
        "outputId": "518e0c6d-8668-410d-8f9c-b3925cd04d9c"
      },
      "execution_count": null,
      "outputs": [
        {
          "output_type": "stream",
          "name": "stdout",
          "text": [
            "Enter a string: Himalyas\n",
            "String without vowels: Hmlys\n"
          ]
        }
      ]
    },
    {
      "cell_type": "markdown",
      "source": [
        "#Solution for question 20"
      ],
      "metadata": {
        "id": "4TlnVNSSqZxX"
      }
    },
    {
      "cell_type": "code",
      "source": [
        "def reverse_sentence(sentence):\n",
        "    words = sentence.split()\n",
        "    reversed_sentence = \" \".join(reversed(words))\n",
        "    return reversed_sentence\n",
        "\n",
        "# Example usage\n",
        "input_sentence = input(\"Enter a sentence: \")\n",
        "reversed_sentence = reverse_sentence(input_sentence)\n",
        "print(\"Reversed sentence:\", reversed_sentence)"
      ],
      "metadata": {
        "colab": {
          "base_uri": "https://localhost:8080/"
        },
        "id": "4kpRny4RprBO",
        "outputId": "f20a6ab3-d136-41ab-8c3a-9a08f39588d7"
      },
      "execution_count": null,
      "outputs": [
        {
          "output_type": "stream",
          "name": "stdout",
          "text": [
            "Enter a sentence: Himalyas were made lakhs year ago\n",
            "Reversed sentence: ago year lakhs made were Himalyas\n"
          ]
        }
      ]
    },
    {
      "cell_type": "markdown",
      "source": [],
      "metadata": {
        "id": "oBoPfODcqbcc"
      }
    },
    {
      "cell_type": "markdown",
      "source": [
        "#Solution for question 21"
      ],
      "metadata": {
        "id": "CQNj3J4eqbPi"
      }
    },
    {
      "cell_type": "code",
      "source": [
        "def are_anagrams(string1, string2):\n",
        "    string1 = string1.lower().replace(\" \", \"\")\n",
        "    string2 = string2.lower().replace(\" \", \"\")\n",
        "    return sorted(string1) == sorted(string2)\n",
        "\n",
        "# Example usage\n",
        "string1 = input(\"Enter the first string: \")\n",
        "string2 = input(\"Enter the second string: \")\n",
        "\n",
        "if are_anagrams(string1, string2):\n",
        "    print(\"The strings are anagrams.\")\n",
        "else:\n",
        "    print(\"The strings are not anagrams.\")"
      ],
      "metadata": {
        "colab": {
          "base_uri": "https://localhost:8080/"
        },
        "id": "2xzbpSUhp03V",
        "outputId": "24289922-631b-452b-d218-e3f3e55464db"
      },
      "execution_count": null,
      "outputs": [
        {
          "output_type": "stream",
          "name": "stdout",
          "text": [
            "Enter the first string: kalsubai\n",
            "Enter the second string: harishchandragd\n",
            "The strings are not anagrams.\n"
          ]
        }
      ]
    },
    {
      "cell_type": "markdown",
      "source": [
        "#Solution for question 22"
      ],
      "metadata": {
        "id": "X61Hxg5drMh9"
      }
    },
    {
      "cell_type": "code",
      "source": [
        "def find_first_non_repeating_char(string):\n",
        "    char_count = {}\n",
        "\n",
        "    for char in string:\n",
        "        if char in char_count:\n",
        "            char_count[char] += 1\n",
        "        else:\n",
        "            char_count[char] = 1\n",
        "\n",
        "    for char in string:\n",
        "        if char_count[char] == 1:\n",
        "            return char\n",
        "\n",
        "    return None\n",
        "\n",
        "# Example usage\n",
        "input_string = input(\"Enter a string: \")\n",
        "first_non_repeating_char = find_first_non_repeating_char(input_string)\n",
        "\n",
        "if first_non_repeating_char:\n",
        "   print(\"First non-repeating character:\", first_non_repeating_char)\n",
        "else:\n",
        "    print(\"There are no non-repeating characters in the string.\")"
      ],
      "metadata": {
        "colab": {
          "base_uri": "https://localhost:8080/"
        },
        "id": "qJytMG3KqeG0",
        "outputId": "ed90ada3-2aa4-425e-9750-b1cae339fd0f"
      },
      "execution_count": null,
      "outputs": [
        {
          "output_type": "stream",
          "name": "stdout",
          "text": [
            "Enter a string: Patna\n",
            "First non-repeating character: P\n"
          ]
        }
      ]
    },
    {
      "cell_type": "markdown",
      "source": [
        "#Solution for question 23"
      ],
      "metadata": {
        "id": "u21NOJvwrOAQ"
      }
    },
    {
      "cell_type": "code",
      "source": [
        "def find_prime_factors(number):\n",
        "    prime_factors = []\n",
        "    divisor = 2\n",
        "\n",
        "    while divisor <= number:\n",
        "        if number % divisor == 0:\n",
        "            prime_factors.append(divisor)\n",
        "            number = number // divisor\n",
        "        else:\n",
        "            divisor += 1\n",
        "\n",
        "    return prime_factors\n",
        "\n",
        "# Example usage\n",
        "number = int(input(\"Enter a number: \"))\n",
        "factors = find_prime_factors(number)\n",
        "print(\"Prime factors of\", number, \"are:\", factors)"
      ],
      "metadata": {
        "colab": {
          "base_uri": "https://localhost:8080/"
        },
        "id": "CkO8dbNErFEa",
        "outputId": "64cb7e13-b1ee-4182-e957-6fdda4ccbe91"
      },
      "execution_count": null,
      "outputs": [
        {
          "output_type": "stream",
          "name": "stdout",
          "text": [
            "Enter a number: 56\n",
            "Prime factors of 56 are: [2, 2, 2, 7]\n"
          ]
        }
      ]
    },
    {
      "cell_type": "markdown",
      "source": [
        "#Solution for question 24"
      ],
      "metadata": {
        "id": "NZy5VFY1yh_c"
      }
    },
    {
      "cell_type": "code",
      "source": [
        "def is_power_of_two(number):\n",
        "    if number <= 0:\n",
        "        return False\n",
        "    return (number & (number - 1)) == 0\n",
        "\n",
        "# Example usage\n",
        "number = int(input(\"Enter a number: \"))\n",
        "if is_power_of_two(number):\n",
        "    print(number, \"is a power of two.\")\n",
        "else:\n",
        "    print(number, \"is not a power of two.\")"
      ],
      "metadata": {
        "colab": {
          "base_uri": "https://localhost:8080/"
        },
        "id": "PDp28iM6r-fs",
        "outputId": "f48bc20f-e305-4ef0-f4ad-2b22da39cfc7"
      },
      "execution_count": null,
      "outputs": [
        {
          "output_type": "stream",
          "name": "stdout",
          "text": [
            "Enter a number: 8\n",
            "8 is a power of two.\n"
          ]
        }
      ]
    },
    {
      "cell_type": "markdown",
      "source": [
        "#Solution for question 25"
      ],
      "metadata": {
        "id": "7lQWveXfyjfy"
      }
    },
    {
      "cell_type": "code",
      "source": [
        "def merge_sorted_lists(list1, list2):\n",
        "    merged_list = []\n",
        "    i = j = 0\n",
        "\n",
        "    while i < len(list1) and j < len(list2):\n",
        "        if list1[i] < list2[j]:\n",
        "            merged_list.append(list1[i])\n",
        "            i += 1\n",
        "        else:\n",
        "            merged_list.append(list2[j])\n",
        "            j += 1\n",
        "\n",
        "    # Append the remaining elements from list1, if any\n",
        "    while i < len(list1):\n",
        "        merged_list.append(list1[i])\n",
        "        i += 1\n",
        "\n",
        "    # Append the remaining elements from list2, if any\n",
        "    while j < len(list2):\n",
        "        merged_list.append(list2[j])\n",
        "        j += 1\n",
        "    return merged_list\n",
        "\n",
        "# Example usage\n",
        "list1 = [1, 3, 5, 7]\n",
        "list2 = [2, 4, 6, 8]\n",
        "merged_list = merge_sorted_lists(list1, list2)\n",
        "print(\"Merged sorted list:\", merged_list)"
      ],
      "metadata": {
        "colab": {
          "base_uri": "https://localhost:8080/"
        },
        "id": "A93T9Ws6s0e0",
        "outputId": "18d9e20f-b210-40c7-d651-cd09c974731c"
      },
      "execution_count": null,
      "outputs": [
        {
          "output_type": "stream",
          "name": "stdout",
          "text": [
            "Merged sorted list: [1, 2, 3, 4, 5, 6, 7, 8]\n"
          ]
        }
      ]
    },
    {
      "cell_type": "markdown",
      "source": [
        "#Solution for question 26"
      ],
      "metadata": {
        "id": "he4Asz-6ylTa"
      }
    },
    {
      "cell_type": "code",
      "source": [
        "from collections import Counter\n",
        "\n",
        "def find_mode(numbers):\n",
        "    frequency = Counter(numbers)\n",
        "    mode = frequency.most_common(1)\n",
        "\n",
        "    return mode[0][0] if mode else None\n",
        "\n",
        "# Example usage\n",
        "numbers = [1, 2, 3, 4, 4, 4, 5, 5, 6]\n",
        "mode = find_mode(numbers)\n",
        "if mode is not None:\n",
        "    print(\"Mode:\", mode)\n",
        "else:\n",
        "    print(\"No mode found.\")"
      ],
      "metadata": {
        "colab": {
          "base_uri": "https://localhost:8080/"
        },
        "id": "GUT03V6ItMYx",
        "outputId": "27253aba-d2ce-4304-b1ec-65f71a2cde5e"
      },
      "execution_count": null,
      "outputs": [
        {
          "output_type": "stream",
          "name": "stdout",
          "text": [
            "Mode: 4\n"
          ]
        }
      ]
    },
    {
      "cell_type": "markdown",
      "source": [
        "#Solution for question 27"
      ],
      "metadata": {
        "id": "HXZzoZrZym7V"
      }
    },
    {
      "cell_type": "code",
      "source": [
        "def find_gcd(a, b):\n",
        "    while b != 0:\n",
        "        a, b = b, a % b\n",
        "    return a\n",
        "\n",
        "# Example usage\n",
        "number1 = int(input(\"Enter the first number: \"))\n",
        "number2 = int(input(\"Enter the second number: \"))\n",
        "gcd = find_gcd(number1, number2)\n",
        "print(\"GCD:\", gcd)"
      ],
      "metadata": {
        "colab": {
          "base_uri": "https://localhost:8080/"
        },
        "id": "Rgoi6hA1tY5A",
        "outputId": "ff5b65f5-6941-4447-d198-55c4940cffe1"
      },
      "execution_count": null,
      "outputs": [
        {
          "output_type": "stream",
          "name": "stdout",
          "text": [
            "Enter the first number: 23\n",
            "Enter the second number: 54\n",
            "GCD: 1\n"
          ]
        }
      ]
    },
    {
      "cell_type": "markdown",
      "source": [
        "#Solution for question 28"
      ],
      "metadata": {
        "id": "BpJxk0EPyos1"
      }
    },
    {
      "cell_type": "code",
      "source": [
        "def calculate_square_root(number):\n",
        "    if number < 0:\n",
        "        return None\n",
        "\n",
        "    guess = number\n",
        "    prev_guess = 0.0\n",
        "\n",
        "    while abs(guess - prev_guess) >= 0.00001:\n",
        "        prev_guess = guess\n",
        "        guess = (guess + number / guess) / 2\n",
        "\n",
        "    return guess\n",
        "\n",
        "# Example usage\n",
        "number = float(input(\"Enter a number: \"))\n",
        "square_root = calculate_square_root(number)\n",
        "\n",
        "if square_root is not None:\n",
        "    print(\"Square root:\", square_root)\n",
        "else:\n",
        "    print(\"Invalid input. Cannot calculate square root of a negative number.\")\n"
      ],
      "metadata": {
        "colab": {
          "base_uri": "https://localhost:8080/"
        },
        "id": "nLmvUOR6t2O0",
        "outputId": "5e9dccc1-c6ac-464b-92ae-b454640f2353"
      },
      "execution_count": null,
      "outputs": [
        {
          "output_type": "stream",
          "name": "stdout",
          "text": [
            "Enter a number: 87\n",
            "Square root: 9.327379053088816\n"
          ]
        }
      ]
    },
    {
      "cell_type": "markdown",
      "source": [
        "#Solution for question 29"
      ],
      "metadata": {
        "id": "vy8gywSoyqWS"
      }
    },
    {
      "cell_type": "code",
      "source": [
        "import re\n",
        "\n",
        "def is_valid_palindrome(string):\n",
        "    alphanumeric_string = re.sub('[^0-9a-zA-Z]', '', string.lower())\n",
        "    return alphanumeric_string == alphanumeric_string[::-1]\n",
        "\n",
        "# Example usage\n",
        "string = input(\"Enter a string: \")\n",
        "if is_valid_palindrome(string):\n",
        "    print(\"The string is a valid palindrome.\")\n",
        "else:\n",
        "    print(\"The string is not a valid palindrome.\")"
      ],
      "metadata": {
        "colab": {
          "base_uri": "https://localhost:8080/"
        },
        "id": "fyzS4hXTuB1K",
        "outputId": "4e517b95-6a37-4acb-8329-88e9a52fe5fc"
      },
      "execution_count": null,
      "outputs": [
        {
          "output_type": "stream",
          "name": "stdout",
          "text": [
            "Enter a string: raigad\n",
            "The string is not a valid palindrome.\n"
          ]
        }
      ]
    },
    {
      "cell_type": "markdown",
      "source": [
        "#Solution for question 30"
      ],
      "metadata": {
        "id": "RDc6V1fXyr4Z"
      }
    },
    {
      "cell_type": "code",
      "source": [
        "def find_minimum_element(nums):\n",
        "    if not nums:\n",
        "        return None\n",
        "\n",
        "    left = 0\n",
        "    right = len(nums) - 1\n",
        "\n",
        "    while left < right:\n",
        "        mid = left + (right - left) // 2\n",
        "\n",
        "        if nums[mid] > nums[right]:\n",
        "            left = mid + 1\n",
        "        else:\n",
        "            right = mid\n",
        "\n",
        "    return nums[left]\n",
        "\n",
        "# Example usage\n",
        "nums = [4, 5, 6, 7, 0, 1, 2]\n",
        "minimum = find_minimum_element(nums)\n",
        "if minimum is not None:\n",
        "    print(\"Minimum element:\", minimum)\n",
        "else:\n",
        "    print(\"The list is empty.\")"
      ],
      "metadata": {
        "colab": {
          "base_uri": "https://localhost:8080/"
        },
        "id": "ooOcrreTuXIj",
        "outputId": "0033744f-bfb7-4c78-cb9f-75d480cc148b"
      },
      "execution_count": null,
      "outputs": [
        {
          "output_type": "stream",
          "name": "stdout",
          "text": [
            "Minimum element: 0\n"
          ]
        }
      ]
    },
    {
      "cell_type": "markdown",
      "source": [
        "#Solution for question 31"
      ],
      "metadata": {
        "id": "NRSrdYeVytkP"
      }
    },
    {
      "cell_type": "code",
      "source": [
        "def sum_of_even_numbers(numbers):\n",
        "    even_sum = 0\n",
        "\n",
        "    for number in numbers:\n",
        "        if number % 2 == 0:\n",
        "            even_sum += number\n",
        "\n",
        "    return even_sum\n",
        "\n",
        "# Example usage\n",
        "numbers = [1, 2, 3, 4, 5, 6, 7, 8, 9, 10]\n",
        "even_sum = sum_of_even_numbers(numbers)\n",
        "print(\"Sum of even numbers:\", even_sum)"
      ],
      "metadata": {
        "colab": {
          "base_uri": "https://localhost:8080/"
        },
        "id": "5TY8Bhw7uwMn",
        "outputId": "5ca0565a-f663-4bd5-d80f-3f65f2a0e835"
      },
      "execution_count": null,
      "outputs": [
        {
          "output_type": "stream",
          "name": "stdout",
          "text": [
            "Sum of even numbers: 30\n"
          ]
        }
      ]
    },
    {
      "cell_type": "markdown",
      "source": [
        "#Solution for question 32"
      ],
      "metadata": {
        "id": "9q-NHc81yvRT"
      }
    },
    {
      "cell_type": "code",
      "source": [
        "def power(base, exponent):\n",
        "    if exponent == 0:\n",
        "        return 1\n",
        "    elif exponent < 0:\n",
        "        return 1 / power(base, -exponent)\n",
        "    else:\n",
        "        return base * power(base, exponent - 1)\n",
        "\n",
        "# Example usage\n",
        "base = float(input(\"Enter the base number: \"))\n",
        "exponent = int(input(\"Enter the exponent: \"))\n",
        "result = power(base, exponent)\n",
        "print(\"Result:\", result)"
      ],
      "metadata": {
        "colab": {
          "base_uri": "https://localhost:8080/"
        },
        "id": "5J9z1Grwu5wx",
        "outputId": "76e2d4d9-2a07-4d61-a066-8323b2970c5a"
      },
      "execution_count": null,
      "outputs": [
        {
          "output_type": "stream",
          "name": "stdout",
          "text": [
            "Enter the base number: 11\n",
            "Enter the exponent: 2\n",
            "Result: 121.0\n"
          ]
        }
      ]
    },
    {
      "cell_type": "markdown",
      "source": [
        "#Solution for question 33"
      ],
      "metadata": {
        "id": "FH0EyFgXyzSP"
      }
    },
    {
      "cell_type": "code",
      "source": [
        "def remove_duplicates(lst):\n",
        "    unique_list = []\n",
        "    seen = set()\n",
        "\n",
        "    for item in lst:\n",
        "        if item not in seen:\n",
        "            unique_list.append(item)\n",
        "            seen.add(item)\n",
        "\n",
        "    return unique_list\n",
        "\n",
        "# Example usage\n",
        "numbers = [1, 2, 3, 2, 4, 5, 1, 3]\n",
        "unique_numbers = remove_duplicates(numbers)\n",
        "print(\"Unique numbers:\", unique_numbers)"
      ],
      "metadata": {
        "colab": {
          "base_uri": "https://localhost:8080/"
        },
        "id": "ZPa7CbUQvEi2",
        "outputId": "dba20234-ba7d-4401-8e33-577a22799c75"
      },
      "execution_count": null,
      "outputs": [
        {
          "output_type": "stream",
          "name": "stdout",
          "text": [
            "Unique numbers: [1, 2, 3, 4, 5]\n"
          ]
        }
      ]
    },
    {
      "cell_type": "markdown",
      "source": [
        "#Solution for question 34"
      ],
      "metadata": {
        "id": "Rbx9NdFry1gD"
      }
    },
    {
      "cell_type": "code",
      "source": [
        "def longest_common_prefix(strings):\n",
        "    if not strings:\n",
        "        return \"\"\n",
        "\n",
        "    prefix = \"\"\n",
        "    min_length = min(len(s) for s in strings)\n",
        "\n",
        "    for i in range(min_length):\n",
        "        char = strings[0][i]\n",
        "\n",
        "        if all(s[i] == char for s in strings):\n",
        "            prefix += char\n",
        "        else:\n",
        "            break\n",
        "\n",
        "    return prefix\n",
        "\n",
        "# Example usage\n",
        "words = [\"flower\", \"flow\", \"flight\"]\n",
        "common_prefix = longest_common_prefix(words)\n",
        "print(\"Longest common prefix:\", common_prefix)"
      ],
      "metadata": {
        "colab": {
          "base_uri": "https://localhost:8080/"
        },
        "id": "NHkIACBrvUtS",
        "outputId": "b838150d-f89a-4347-84b6-919ccd1a4ea8"
      },
      "execution_count": null,
      "outputs": [
        {
          "output_type": "stream",
          "name": "stdout",
          "text": [
            "Longest common prefix: fl\n"
          ]
        }
      ]
    },
    {
      "cell_type": "markdown",
      "source": [
        "#Solution for question 35"
      ],
      "metadata": {
        "id": "5E1Jzwg-y3SR"
      }
    },
    {
      "cell_type": "code",
      "source": [
        "def is_perfect_square(number):\n",
        "    if number < 0:\n",
        "        return False\n",
        "\n",
        "    root = int(number ** 0.5)\n",
        "    return root * root == number\n",
        "\n",
        "# Example usage\n",
        "number = int(input(\"Enter a number: \"))\n",
        "if is_perfect_square(number):\n",
        "    print(\"The number is a perfect square.\")\n",
        "else:\n",
        "    print(\"The number is not a perfect square.\")"
      ],
      "metadata": {
        "colab": {
          "base_uri": "https://localhost:8080/"
        },
        "id": "CT80z_eyvdrl",
        "outputId": "662ed687-f914-4d25-cc90-a4cf60b0d4a1"
      },
      "execution_count": null,
      "outputs": [
        {
          "output_type": "stream",
          "name": "stdout",
          "text": [
            "Enter a number: 222\n",
            "The number is not a perfect square.\n"
          ]
        }
      ]
    },
    {
      "cell_type": "markdown",
      "source": [
        "#Solution for question 36"
      ],
      "metadata": {
        "id": "cffBm_dJy5W9"
      }
    },
    {
      "cell_type": "code",
      "source": [
        "def calculate_product(numbers):\n",
        "    product = 1\n",
        "\n",
        "    for number in numbers:\n",
        "        product *= number\n",
        "\n",
        "    return product\n",
        "\n",
        "# Example usage\n",
        "numbers = [1, 2, 3, 4, 5]\n",
        "product = calculate_product(numbers)\n",
        "print(\"Product:\", product)"
      ],
      "metadata": {
        "colab": {
          "base_uri": "https://localhost:8080/"
        },
        "id": "-remLF6Pvmp3",
        "outputId": "a3e60777-d836-4422-d2c7-21efe1b48bc9"
      },
      "execution_count": null,
      "outputs": [
        {
          "output_type": "stream",
          "name": "stdout",
          "text": [
            "Product: 120\n"
          ]
        }
      ]
    },
    {
      "cell_type": "markdown",
      "source": [
        "#Solution for question 37"
      ],
      "metadata": {
        "id": "tZC43pU-y7QP"
      }
    },
    {
      "cell_type": "code",
      "source": [
        "def reverse_sentence(sentence):\n",
        "    words = sentence.split()\n",
        "    reversed_words = words[::-1]\n",
        "    reversed_sentence = ' '.join(reversed_words)\n",
        "    return reversed_sentence\n",
        "\n",
        "# Example usage\n",
        "sentence = input(\"Enter a sentence: \")\n",
        "reversed_sentence = reverse_sentence(sentence)\n",
        "print(\"Reversed sentence:\", reversed_sentence)"
      ],
      "metadata": {
        "colab": {
          "base_uri": "https://localhost:8080/"
        },
        "id": "1x7xvoZ_vv9c",
        "outputId": "5cec4024-ab1c-47b5-f585-b8890c17a9cf"
      },
      "execution_count": null,
      "outputs": [
        {
          "output_type": "stream",
          "name": "stdout",
          "text": [
            "Enter a sentence: The rich man and poor man\n",
            "Reversed sentence: man poor and man rich The\n"
          ]
        }
      ]
    },
    {
      "cell_type": "markdown",
      "source": [
        "#Solution for question 38"
      ],
      "metadata": {
        "id": "G1YdaKjZy9gi"
      }
    },
    {
      "cell_type": "code",
      "source": [
        "def find_missing_number(numbers):\n",
        "    n = len(numbers) + 1\n",
        "    total_sum = (n * (n + 1)) // 2\n",
        "    actual_sum = sum(numbers)\n",
        "    missing_number = total_sum - actual_sum\n",
        "    return missing_number\n",
        "\n",
        "# Example usage\n",
        "numbers = [1, 2, 3, 5, 6]\n",
        "missing_number = find_missing_number(numbers)\n",
        "print(\"Missing number:\", missing_number)"
      ],
      "metadata": {
        "colab": {
          "base_uri": "https://localhost:8080/"
        },
        "id": "4dva0gNRv6EZ",
        "outputId": "9eaf4bda-37ac-46aa-ef0c-b1192e50291a"
      },
      "execution_count": null,
      "outputs": [
        {
          "output_type": "stream",
          "name": "stdout",
          "text": [
            "Missing number: 4\n"
          ]
        }
      ]
    },
    {
      "cell_type": "markdown",
      "source": [
        "#Solution for question 39"
      ],
      "metadata": {
        "id": "qpCmo-SFy_RD"
      }
    },
    {
      "cell_type": "code",
      "source": [
        "def sum_of_digits(number):\n",
        "    sum = 0\n",
        "\n",
        "    # Iterate over each digit in the number\n",
        "    while number > 0:\n",
        "        digit = number % 10  # Extract the last digit\n",
        "        sum += digit\n",
        "        number //= 10  # Remove the last digit\n",
        "\n",
        "    return sum\n",
        "\n",
        "# Example usage\n",
        "number = int(input(\"Enter a number: \"))\n",
        "digit_sum = sum_of_digits(number)\n",
        "print(\"Sum of digits:\", digit_sum)"
      ],
      "metadata": {
        "colab": {
          "base_uri": "https://localhost:8080/"
        },
        "id": "SzHI0U6wwXGe",
        "outputId": "dc23ade2-6153-478a-e0a9-696caff6d12c"
      },
      "execution_count": null,
      "outputs": [
        {
          "output_type": "stream",
          "name": "stdout",
          "text": [
            "Enter a number: 2133\n",
            "Sum of digits: 9\n"
          ]
        }
      ]
    },
    {
      "cell_type": "markdown",
      "source": [
        "#Solution for question 40"
      ],
      "metadata": {
        "id": "DpCIQV0yzBgg"
      }
    },
    {
      "cell_type": "code",
      "source": [
        "def is_valid_palindrome(string):\n",
        "    # Remove non-alphanumeric characters and convert to lowercase\n",
        "    alphanumeric_string = ''.join(char.lower() for char in string if char.isalnum())\n",
        "\n",
        "    # Check if the alphanumeric string is equal to its reverse\n",
        "    return alphanumeric_string == alphanumeric_string[::-1]\n",
        "\n",
        "# Example usage\n",
        "string = input(\"Enter a string: \")\n",
        "if is_valid_palindrome(string):\n",
        "    print(\"The string is a valid palindrome.\")\n",
        "else:\n",
        "    print(\"The string is not a valid palindrome.\")"
      ],
      "metadata": {
        "colab": {
          "base_uri": "https://localhost:8080/"
        },
        "id": "ZULWMvmTwfJg",
        "outputId": "c137c1d0-a311-43a4-a518-38232ea14f69"
      },
      "execution_count": null,
      "outputs": [
        {
          "output_type": "stream",
          "name": "stdout",
          "text": [
            "Enter a string: Raaaaadhhaaa\n",
            "The string is not a valid palindrome.\n"
          ]
        }
      ]
    },
    {
      "cell_type": "markdown",
      "source": [
        "#Solution for question 41"
      ],
      "metadata": {
        "id": "Qi4OvnYtzDh4"
      }
    },
    {
      "cell_type": "code",
      "source": [
        "def find_smallest_missing_positive_integer(nums):\n",
        "    n = len(nums)\n",
        "\n",
        "    # Move all non-positive numbers to the end\n",
        "    i = 0\n",
        "    while i < n:\n",
        "        if 1 <= nums[i] <= n and nums[nums[i] - 1] != nums[i]:\n",
        "            # Swap the number to its correct position\n",
        "            nums[nums[i] - 1], nums[i] = nums[i], nums[nums[i] - 1]\n",
        "        else:\n",
        "            i += 1\n",
        "\n",
        "    # Find the first missing positive number\n",
        "    for i in range(n):\n",
        "        if nums[i] != i + 1:\n",
        "            return i + 1\n",
        "\n",
        "    # If all positive integers from 1 to n are present, the missing number is n + 1\n",
        "    return n + 1\n",
        "# Example usage\n",
        "numbers = [3, 4, -1, 1]\n",
        "smallest_missing = find_smallest_missing_positive_integer(numbers)\n",
        "print(\"Smallest missing positive integer:\", smallest_missing)"
      ],
      "metadata": {
        "colab": {
          "base_uri": "https://localhost:8080/"
        },
        "id": "CPSZyJEJwplU",
        "outputId": "e70a98c6-1c6e-42ff-d9c1-370fb95c93c9"
      },
      "execution_count": null,
      "outputs": [
        {
          "output_type": "stream",
          "name": "stdout",
          "text": [
            "Smallest missing positive integer: 2\n"
          ]
        }
      ]
    },
    {
      "cell_type": "markdown",
      "source": [
        "#Solution for question 42"
      ],
      "metadata": {
        "id": "mCb5N1A1zGrk"
      }
    },
    {
      "cell_type": "code",
      "source": [
        "def longest_palindrome_substring(string):\n",
        "    n = len(string)\n",
        "    longest_palindrome = ''\n",
        "\n",
        "    # Helper function to expand around a center\n",
        "    def expand_around_center(left, right):\n",
        "        while left >= 0 and right < n and string[left] == string[right]:\n",
        "            left -= 1\n",
        "            right += 1\n",
        "        return string[left + 1:right]\n",
        "\n",
        "    for i in range(n):\n",
        "        # Check for odd-length palindromes\n",
        "        palindrome_odd = expand_around_center(i, i)\n",
        "        if len(palindrome_odd) > len(longest_palindrome):\n",
        "            longest_palindrome = palindrome_odd\n",
        "\n",
        "        # Check for even-length palindromes\n",
        "        palindrome_even = expand_around_center(i, i + 1)\n",
        "        if len(palindrome_even) > len(longest_palindrome):\n",
        "            longest_palindrome = palindrome_even\n",
        "    return longest_palindrome\n",
        "\n",
        "# Example usage\n",
        "string = input(\"Enter a string: \")\n",
        "longest_palindrome = longest_palindrome_substring(string)\n",
        "print(\"Longest palindrome substring:\", longest_palindrome)"
      ],
      "metadata": {
        "colab": {
          "base_uri": "https://localhost:8080/"
        },
        "id": "hvXOFMAGw-Wu",
        "outputId": "a6624d3a-2c0f-4477-e167-d455da5a20ef"
      },
      "execution_count": null,
      "outputs": [
        {
          "output_type": "stream",
          "name": "stdout",
          "text": [
            "Enter a string: heaven\n",
            "Longest palindrome substring: h\n"
          ]
        }
      ]
    },
    {
      "cell_type": "markdown",
      "source": [
        "#Solution for question 43"
      ],
      "metadata": {
        "id": "xKsJx6pSzJmA"
      }
    },
    {
      "cell_type": "code",
      "source": [
        "def count_occurrences(lst, element):\n",
        "    count = 0\n",
        "    for item in lst:\n",
        "        if item == element:\n",
        "            count += 1\n",
        "    return count\n",
        "\n",
        "# Example usage\n",
        "numbers = [1, 2, 3, 4, 2, 2, 3, 5, 6, 2]\n",
        "element = 2\n",
        "occurrences = count_occurrences(numbers, element)\n",
        "print(\"Number of occurrences of\", element, \":\", occurrences)"
      ],
      "metadata": {
        "colab": {
          "base_uri": "https://localhost:8080/"
        },
        "id": "PnC-zIyixMX3",
        "outputId": "a859b537-d739-46ac-a93f-2a8c74808fe7"
      },
      "execution_count": null,
      "outputs": [
        {
          "output_type": "stream",
          "name": "stdout",
          "text": [
            "Number of occurrences of 2 : 4\n"
          ]
        }
      ]
    },
    {
      "cell_type": "markdown",
      "source": [
        "#Solution for question 44"
      ],
      "metadata": {
        "id": "6uwLjQeIzLF7"
      }
    },
    {
      "cell_type": "code",
      "source": [
        "def is_perfect_number(number):\n",
        "    if number <= 0:\n",
        "        return False\n",
        "\n",
        "    divisor_sum = 0\n",
        "\n",
        "    # Find all divisors of the number\n",
        "    for i in range(1, number):\n",
        "        if number % i == 0:\n",
        "            divisor_sum += i\n",
        "\n",
        "    # Check if the sum of divisors equals the number\n",
        "    return divisor_sum == number\n",
        "\n",
        "# Example usage\n",
        "num = int(input(\"Enter a number: \"))\n",
        "if is_perfect_number(num):\n",
        "    print(num, \"is a perfect number.\")\n",
        "else:\n",
        "    print(num, \"is not a perfect number.\")"
      ],
      "metadata": {
        "colab": {
          "base_uri": "https://localhost:8080/"
        },
        "id": "tR72iUMGxjkU",
        "outputId": "6f6be432-548c-4800-f3ff-f7642898cc14"
      },
      "execution_count": null,
      "outputs": [
        {
          "output_type": "stream",
          "name": "stdout",
          "text": [
            "Enter a number: 56\n",
            "56 is not a perfect number.\n"
          ]
        }
      ]
    },
    {
      "cell_type": "markdown",
      "source": [
        "#Solution for question 45"
      ],
      "metadata": {
        "id": "i6I5eb_tzMzC"
      }
    },
    {
      "cell_type": "code",
      "source": [
        "def remove_duplicates(string):\n",
        "    # Convert string to a list of characters\n",
        "    characters = list(string)\n",
        "\n",
        "    # Create an empty set to store unique characters\n",
        "    unique_characters = set()\n",
        "\n",
        "    # Create a list to store the result without duplicates\n",
        "    result = []\n",
        "\n",
        "    # Iterate through each character in the list\n",
        "    for char in characters:\n",
        "        # Check if the character is already in the set of unique characters\n",
        "        if char not in unique_characters:\n",
        "            # Add the character to the set and the result list\n",
        "            unique_characters.add(char)\n",
        "            result.append(char)\n",
        "\n",
        "    # Convert the result list back to a string\n",
        "    result_string = ''.join(result)\n",
        "\n",
        "    return result_string\n",
        "# Example usage\n",
        "string = input(\"Enter a string: \")\n",
        "result = remove_duplicates(string)\n",
        "print(\"String without duplicates:\", result)"
      ],
      "metadata": {
        "colab": {
          "base_uri": "https://localhost:8080/"
        },
        "id": "Wf7IQu6Nx959",
        "outputId": "d15707de-22b7-4341-9bc1-e1eb0cc6a935"
      },
      "execution_count": null,
      "outputs": [
        {
          "output_type": "stream",
          "name": "stdout",
          "text": [
            "Enter a string: Government\n",
            "String without duplicates: Governmt\n"
          ]
        }
      ]
    },
    {
      "cell_type": "markdown",
      "source": [
        "#Solution for question 46"
      ],
      "metadata": {
        "id": "1vciyR1-zPEN"
      }
    },
    {
      "cell_type": "code",
      "source": [
        "def find_first_missing_positive(nums):\n",
        "    # Remove negative numbers and zeros from the list\n",
        "    nums = [num for num in nums if num > 0]\n",
        "\n",
        "    n = len(nums)\n",
        "\n",
        "    # Mark visited numbers by negating their corresponding index\n",
        "    for i in range(n):\n",
        "        if abs(nums[i]) <= n:\n",
        "            index = abs(nums[i]) - 1\n",
        "            nums[index] = -abs(nums[index])\n",
        "\n",
        "    # Find the first positive number (index + 1) in the list\n",
        "    for i in range(n):\n",
        "        if nums[i] > 0:\n",
        "            return i + 1\n",
        "\n",
        "    # If all positive numbers from 1 to n are present, the missing positive is n + 1\n",
        "    return n + 1\n",
        "# Example usage\n",
        "numbers = [3, 4, -1, 1]\n",
        "missing_positive = find_first_missing_positive(numbers)\n",
        "print(\"First missing positive:\", missing_positive)"
      ],
      "metadata": {
        "colab": {
          "base_uri": "https://localhost:8080/"
        },
        "id": "7mDUyP-syJjp",
        "outputId": "9a231673-4291-45bf-ef71-ec1d215873be"
      },
      "execution_count": null,
      "outputs": [
        {
          "output_type": "stream",
          "name": "stdout",
          "text": [
            "First missing positive: 2\n"
          ]
        }
      ]
    },
    {
      "cell_type": "code",
      "source": [],
      "metadata": {
        "id": "Xf43AUsJybUG"
      },
      "execution_count": null,
      "outputs": []
    }
  ]
}